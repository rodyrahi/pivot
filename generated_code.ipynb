{
 "cells": [
  {
   "cell_type": "code",
   "execution_count": null,
   "id": "c810aabc",
   "metadata": {},
   "outputs": [],
   "source": [
    "df = data.dropna(subset=None)\n"
   ]
  }
 ],
 "metadata": {
  "language_info": {
   "name": "python"
  }
 },
 "nbformat": 4,
 "nbformat_minor": 5
}
