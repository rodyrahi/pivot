{
 "cells": [
  {
   "cell_type": "code",
   "execution_count": null,
   "id": "68c6002f",
   "metadata": {},
   "outputs": [],
   "source": [
    "import pandas as pd\n"
   ]
  },
  {
   "cell_type": "code",
   "execution_count": null,
   "id": "7d8ae134",
   "metadata": {},
   "outputs": [],
   "source": [
    "df = pd.read_csv('dataframe1.csv')\n"
   ]
  },
  {
   "cell_type": "code",
   "execution_count": null,
   "id": "4bfd262c",
   "metadata": {},
   "outputs": [],
   "source": [
    "df.duplicated(keep=False)"
   ]
  }
 ],
 "metadata": {
  "language_info": {
   "name": "python"
  }
 },
 "nbformat": 4,
 "nbformat_minor": 5
}
